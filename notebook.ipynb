{
 "cells": [
  {
   "cell_type": "code",
   "execution_count": null,
   "metadata": {},
   "outputs": [],
   "source": [
    "from sklearn.feature_extraction.text import CountVectorizer\n",
    "\n",
    "\n",
    "\n",
    "dictionnaire_des_mots = vect.vocabulary_\n",
    "print(\"dictionnaire_des_mots :\", dictionnaire_des_mots)\n",
    "\n",
    "liste_des_mots = list(dictionnaire_des_mots.keys())\n",
    "print(\"liste_des_mots :\", liste_des_mots)\n",
    "\n",
    "Matrice_sparse_correspondante = T.toarray()\n",
    "print(\"Matrice_sparse_correspondante:\\n\", Matrice_sparse_correspondante)\n"
   ]
  },
  {
   "cell_type": "code",
   "execution_count": null,
   "metadata": {},
   "outputs": [],
   "source": [
    "texte = [\"La vie est douce\",\"La vie est tranquille, est belle, est douce\"]\n",
    "\n",
    "vect = CountVectorizer()\n",
    "T = vect.fit_transform(texte)"
   ]
  },
  {
   "cell_type": "code",
   "execution_count": null,
   "metadata": {},
   "outputs": [],
   "source": [
    "6"
   ]
  }
 ],
 "metadata": {
  "language_info": {
   "name": "python"
  }
 },
 "nbformat": 4,
 "nbformat_minor": 2
}
